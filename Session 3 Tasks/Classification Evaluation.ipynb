{
 "cells": [
  {
   "cell_type": "markdown",
   "id": "48cf59cf-46a7-4af0-9b58-f095f7366b75",
   "metadata": {},
   "source": [
    "# Mahmoud Abdelnasser"
   ]
  },
  {
   "cell_type": "markdown",
   "id": "ed105f3c-c237-4e23-9f2a-f6b4c5049ea7",
   "metadata": {},
   "source": [
    "## Task 3"
   ]
  },
  {
   "cell_type": "code",
   "execution_count": 12,
   "id": "e38e9f3c-a9e5-47fb-b59c-22228f99b7ae",
   "metadata": {},
   "outputs": [],
   "source": [
    "import pandas as pd\n",
    "import numpy as np \n",
    "from sklearn.model_selection import train_test_split, KFold, cross_val_score\n",
    "from sklearn.preprocessing import StandardScaler\n",
    "from sklearn.metrics import accuracy_score, mean_absolute_error, mean_squared_error, roc_auc_score, roc_curve\n",
    "from sklearn.linear_model import LogisticRegression\n",
    "from sklearn.svm import SVC\n",
    "from sklearn.ensemble import RandomForestClassifier\n"
   ]
  },
  {
   "cell_type": "code",
   "execution_count": 13,
   "id": "8ade5194-2130-476b-a76f-d53387a32d23",
   "metadata": {},
   "outputs": [],
   "source": [
    "# Load the dataset\n",
    "df = pd.read_csv('student_dropout.csv')\n",
    "\n",
    "# Preprocess the target variable\n",
    "df['Target'] = df['Target'].map({\n",
    "    'Graduate': 0,\n",
    "    'Dropout': 1,\n",
    "    'Enrolled': 2,\n",
    "})\n"
   ]
  },
  {
   "cell_type": "code",
   "execution_count": 14,
   "id": "d4a27da4-58cd-46a3-8dc7-cda07a8345f3",
   "metadata": {},
   "outputs": [],
   "source": [
    "# Select features with high correlation\n",
    "corr = df.corr()\n",
    "target_corr = corr['Target']\n",
    "high_corr = target_corr[target_corr.abs() >= 0.1]\n",
    "data_filtered = df[high_corr.index]\n"
   ]
  },
  {
   "cell_type": "code",
   "execution_count": 15,
   "id": "950bd21c-1745-4f85-a6ca-1b344eb29bde",
   "metadata": {},
   "outputs": [],
   "source": [
    "# Remove duplicates\n",
    "data_filtered = data_filtered.drop_duplicates()\n"
   ]
  },
  {
   "cell_type": "code",
   "execution_count": 16,
   "id": "3dcb64ad-d5b2-4020-ae97-6301ac96cb8b",
   "metadata": {},
   "outputs": [],
   "source": [
    "# Define features (X) and target (Y)\n",
    "X = data_filtered.drop(['Target'], axis=1)\n",
    "Y = data_filtered['Target']\n"
   ]
  },
  {
   "cell_type": "code",
   "execution_count": 17,
   "id": "351747ec-e239-4fc3-bb41-bbf1677da7f5",
   "metadata": {},
   "outputs": [],
   "source": [
    "# Split into train (70%), validation (15%), and test (15%)\n",
    "X_train, X_temp, Y_train, Y_temp = train_test_split(X, Y, test_size=0.30, random_state=42, stratify=Y)\n",
    "X_val, X_test, Y_val, Y_test = train_test_split(X_temp, Y_temp, test_size=0.50, random_state=42, stratify=Y_temp)\n"
   ]
  },
  {
   "cell_type": "code",
   "execution_count": 18,
   "id": "132253ea-6f9e-419f-a44f-ad38d00b7074",
   "metadata": {},
   "outputs": [],
   "source": [
    "# Scale the features\n",
    "scaler = StandardScaler()\n",
    "X_train = scaler.fit_transform(X_train)\n",
    "X_val = scaler.transform(X_val)\n",
    "X_test = scaler.transform(X_test)\n"
   ]
  },
  {
   "cell_type": "code",
   "execution_count": 19,
   "id": "c2568a14-fe50-4f4c-8a11-939ad56d5b2c",
   "metadata": {},
   "outputs": [],
   "source": [
    "# Models to evaluate\n",
    "models = {\n",
    "    \"Logistic Regression\": LogisticRegression(),\n",
    "    \"Random Forest\": RandomForestClassifier(n_estimators=300),\n",
    "    \"SVM\": SVC(kernel='linear', probability=True)  # Enable probability estimates for ROC AUC\n",
    "}\n",
    "\n",
    "# K-Fold Cross Validation setup\n",
    "kf = KFold(n_splits=5, shuffle=True, random_state=42)\n"
   ]
  },
  {
   "cell_type": "code",
   "execution_count": 20,
   "id": "46fe3903-b987-4fc9-afb0-b11056d3bfa7",
   "metadata": {},
   "outputs": [
    {
     "name": "stdout",
     "output_type": "stream",
     "text": [
      "\n",
      "Evaluating Logistic Regression\n",
      "Logistic Regression Cross-Validation Accuracy: 0.7581\n",
      "Logistic Regression Validation Accuracy: 0.7753\n",
      "Logistic Regression MAE: 0.3333\n",
      "Logistic Regression MSE: 0.5505\n",
      "Logistic Regression ROC-AUC: 0.9253\n",
      "\n",
      "Evaluating Random Forest\n",
      "Random Forest Cross-Validation Accuracy: 0.7581\n",
      "Random Forest Validation Accuracy: 0.7843\n",
      "Random Forest MAE: 0.3107\n",
      "Random Forest MSE: 0.5008\n",
      "Random Forest ROC-AUC: 0.9164\n",
      "\n",
      "Evaluating SVM\n",
      "SVM Cross-Validation Accuracy: 0.7523\n",
      "SVM Validation Accuracy: 0.7738\n",
      "SVM MAE: 0.3394\n",
      "SVM MSE: 0.5656\n",
      "SVM ROC-AUC: 0.9252\n"
     ]
    }
   ],
   "source": [
    "# Train and evaluate models\n",
    "for name, model in models.items():\n",
    "    print(f\"\\nEvaluating {name}\")\n",
    "    \n",
    "    # K-Fold Cross Validation Accuracy\n",
    "    cv_scores = cross_val_score(model, X_train, Y_train, cv=kf, scoring='accuracy')\n",
    "    print(f\"{name} Cross-Validation Accuracy: {np.mean(cv_scores):.4f}\")\n",
    "    \n",
    "    # Train the model\n",
    "    model.fit(X_train, Y_train)\n",
    "    \n",
    "    # Predictions on validation set\n",
    "    Y_val_pred = model.predict(X_val)\n",
    "    \n",
    "    # Evaluation Metrics\n",
    "    accuracy = accuracy_score(Y_val, Y_val_pred)\n",
    "    mae = mean_absolute_error(Y_val, Y_val_pred)\n",
    "    mse = mean_squared_error(Y_val, Y_val_pred)\n",
    "    \n",
    "    print(f\"{name} Validation Accuracy: {accuracy:.4f}\")\n",
    "    print(f\"{name} MAE: {mae:.4f}\")\n",
    "    print(f\"{name} MSE: {mse:.4f}\")\n",
    "    \n",
    "    # ROC AUC\n",
    "    if hasattr(model, \"predict_proba\"):\n",
    "        Y_val_prob = model.predict_proba(X_val)[:, 1]  # Use the probability of class 1\n",
    "        roc_auc = roc_auc_score((Y_val == 1).astype(int), Y_val_prob)\n",
    "        print(f\"{name} ROC-AUC: {roc_auc:.4f}\")\n"
   ]
  },
  {
   "cell_type": "code",
   "execution_count": 21,
   "id": "ec81d8b2-f7f1-4e57-8423-424a7ce849af",
   "metadata": {},
   "outputs": [
    {
     "name": "stdout",
     "output_type": "stream",
     "text": [
      "\n",
      "Logistic Regression Test Accuracy: 0.7605\n",
      "Logistic Regression Test MAE: 0.3524\n",
      "Logistic Regression Test MSE: 0.5783\n",
      "Logistic Regression Test ROC-AUC: 0.9208\n",
      "\n",
      "Random Forest Test Accuracy: 0.7771\n",
      "Random Forest Test MAE: 0.3298\n",
      "Random Forest Test MSE: 0.5437\n",
      "Random Forest Test ROC-AUC: 0.9088\n",
      "\n",
      "SVM Test Accuracy: 0.7560\n",
      "SVM Test MAE: 0.3599\n",
      "SVM Test MSE: 0.5919\n",
      "SVM Test ROC-AUC: 0.9203\n"
     ]
    }
   ],
   "source": [
    "# Final evaluation on the test set\n",
    "for name, model in models.items():\n",
    "    Y_test_pred = model.predict(X_test)\n",
    "    test_accuracy = accuracy_score(Y_test, Y_test_pred)\n",
    "    test_mae = mean_absolute_error(Y_test, Y_test_pred)\n",
    "    test_mse = mean_squared_error(Y_test, Y_test_pred)\n",
    "    \n",
    "    print(f\"\\n{name} Test Accuracy: {test_accuracy:.4f}\")\n",
    "    print(f\"{name} Test MAE: {test_mae:.4f}\")\n",
    "    print(f\"{name} Test MSE: {test_mse:.4f}\")\n",
    "    \n",
    "    if hasattr(model, \"predict_proba\"):\n",
    "        Y_test_prob = model.predict_proba(X_test)[:, 1]\n",
    "        test_roc_auc = roc_auc_score((Y_test == 1).astype(int), Y_test_prob)\n",
    "        print(f\"{name} Test ROC-AUC: {test_roc_auc:.4f}\")\n"
   ]
  },
  {
   "cell_type": "code",
   "execution_count": null,
   "id": "0f1106be-4630-40f6-82d2-b044a1882d06",
   "metadata": {},
   "outputs": [],
   "source": []
  }
 ],
 "metadata": {
  "kernelspec": {
   "display_name": "Python 3 (ipykernel)",
   "language": "python",
   "name": "python3"
  },
  "language_info": {
   "codemirror_mode": {
    "name": "ipython",
    "version": 3
   },
   "file_extension": ".py",
   "mimetype": "text/x-python",
   "name": "python",
   "nbconvert_exporter": "python",
   "pygments_lexer": "ipython3",
   "version": "3.11.7"
  }
 },
 "nbformat": 4,
 "nbformat_minor": 5
}
